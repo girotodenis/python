{
  "nbformat": 4,
  "nbformat_minor": 0,
  "metadata": {
    "colab": {
      "name": "Untitled0.ipynb",
      "provenance": [],
      "authorship_tag": "ABX9TyNCfmA6Xig85dVrF43BCUFC",
      "include_colab_link": true
    },
    "kernelspec": {
      "name": "python3",
      "display_name": "Python 3"
    },
    "language_info": {
      "name": "python"
    }
  },
  "cells": [
    {
      "cell_type": "markdown",
      "metadata": {
        "id": "view-in-github",
        "colab_type": "text"
      },
      "source": [
        "<a href=\"https://colab.research.google.com/github/girotodenis/python/blob/master/TesteCarga.ipynb\" target=\"_parent\"><img src=\"https://colab.research.google.com/assets/colab-badge.svg\" alt=\"Open In Colab\"/></a>"
      ]
    },
    {
      "cell_type": "code",
      "execution_count": 1,
      "metadata": {
        "id": "LH7n21WhK7f7"
      },
      "outputs": [],
      "source": [
        "%%capture\n",
        "\n",
        "import numpy as np\n",
        "import pandas as pd\n",
        "from datetime import datetime\n",
        "from scipy import stats as st\n",
        "import matplotlib.pyplot as plt   \n",
        "import seaborn as sns\n",
        "%matplotlib inline  "
      ]
    },
    {
      "cell_type": "code",
      "source": [
        "#df = pd.read_csv('/content/epol-teste-consultas-menu.csv')\n",
        "df = pd.read_csv('/content/epol-teste-consultas-menu4x3000_4.csv')\n",
        "\n",
        "df.success.astype(str)\n",
        "df.success.replace('False','false')\n",
        "df.success.replace('f','false')\n",
        "df.success.replace('True\t','true\t')\n",
        "df.columns"
      ],
      "metadata": {
        "colab": {
          "base_uri": "https://localhost:8080/"
        },
        "id": "yvCr83xKK-Sx",
        "outputId": "2e2f3cb8-1420-4e1f-ee7a-9334c04df6b7"
      },
      "execution_count": 37,
      "outputs": [
        {
          "output_type": "execute_result",
          "data": {
            "text/plain": [
              "Index(['timeStamp', 'elapsed', 'label', 'responseCode', 'responseMessage',\n",
              "       'threadName', 'dataType', 'success', 'failureMessage', 'bytes',\n",
              "       'sentBytes', 'grpThreads', 'allThreads', 'URL', 'Latency', 'IdleTime',\n",
              "       'Connect'],\n",
              "      dtype='object')"
            ]
          },
          "metadata": {},
          "execution_count": 37
        }
      ]
    },
    {
      "cell_type": "code",
      "source": [
        "df2 = df.groupby(['success']).size().reset_index(name='counts')\n",
        "df2\n",
        "plt.pie(x=df2.counts, labels=df2.success, autopct='%1.1f%%')\n",
        "plt.show()"
      ],
      "metadata": {
        "colab": {
          "base_uri": "https://localhost:8080/",
          "height": 248
        },
        "id": "6gVb2rD7Ld6x",
        "outputId": "55c4c452-583b-48d7-9b79-7012a679b372"
      },
      "execution_count": 38,
      "outputs": [
        {
          "output_type": "display_data",
          "data": {
            "image/png": "[encoded data removed]",
            "text/plain": [
              "<Figure size 432x288 with 1 Axes>"
            ]
          },
          "metadata": {}
        }
      ]
    },
    {
      "cell_type": "code",
      "source": [
        ""
      ],
      "metadata": {
        "id": "M-ITs-WeLj6N"
      },
      "execution_count": 3,
      "outputs": []
    }
  ]
}