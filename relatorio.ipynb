{
  "nbformat": 4,
  "nbformat_minor": 0,
  "metadata": {
    "colab": {
      "name": "relatorio.ipynb",
      "provenance": [],
      "authorship_tag": "ABX9TyPDXS3AmOHpfBY2dH25DFf2",
      "include_colab_link": true
    },
    "kernelspec": {
      "name": "python3",
      "display_name": "Python 3"
    }
  },
  "cells": [
    {
      "cell_type": "markdown",
      "metadata": {
        "id": "view-in-github",
        "colab_type": "text"
      },
      "source": [
        "<a href=\"https://colab.research.google.com/github/girotodenis/python/blob/master/relatorio.ipynb\" target=\"_parent\"><img src=\"https://colab.research.google.com/assets/colab-badge.svg\" alt=\"Open In Colab\"/></a>"
      ]
    },
    {
      "cell_type": "code",
      "metadata": {
        "id": "pTzLMV7iX01g",
        "colab_type": "code",
        "colab": {}
      },
      "source": [
        "import numpy as np\n",
        "import pandas as pd\n",
        "from scipy import stats as st\n",
        "import matplotlib.pyplot as plt\n",
        "import seaborn as sns\n",
        "%matplotlib inline"
      ],
      "execution_count": 0,
      "outputs": []
    },
    {
      "cell_type": "code",
      "metadata": {
        "id": "h9c_VTCHbSeo",
        "colab_type": "code",
        "outputId": "974cd917-5c74-470a-ed63-4efdbb0cfaed",
        "colab": {
          "base_uri": "https://localhost:8080/",
          "height": 34
        }
      },
      "source": [
        "\n",
        "#!git clone -l -s git://github.com/girotodenis/data_science.git cloned-repo\n",
        "#%cd cloned-repo\n",
        "#!ls\n",
        "\n",
        "df = pd.read_excel('/content/ePol.xlsx')\n",
        "df.shape"
      ],
      "execution_count": 15,
      "outputs": [
        {
          "output_type": "execute_result",
          "data": {
            "text/plain": [
              "(111, 17)"
            ]
          },
          "metadata": {
            "tags": []
          },
          "execution_count": 15
        }
      ]
    },
    {
      "cell_type": "code",
      "metadata": {
        "id": "5lAe0881aAJV",
        "colab_type": "code",
        "outputId": "249d8a20-b3f6-4a63-bb06-eafca690c479",
        "colab": {
          "base_uri": "https://localhost:8080/",
          "height": 136
        }
      },
      "source": [
        "df.columns"
      ],
      "execution_count": 16,
      "outputs": [
        {
          "output_type": "execute_result",
          "data": {
            "text/plain": [
              "Index(['Identificação da tarefa', 'Nome da tarefa', 'Nome do Bucket',\n",
              "       'Progresso', 'Prioridade', 'Atribuído a', 'Criado por', 'Criado em',\n",
              "       'Data de início', 'Data de conclusão', 'Atrasados', 'Concluído em',\n",
              "       'Concluída por', 'Descrição',\n",
              "       'Itens concluídos da lista de verificação',\n",
              "       'Itens da lista de verificação', 'Rótulos'],\n",
              "      dtype='object')"
            ]
          },
          "metadata": {
            "tags": []
          },
          "execution_count": 16
        }
      ]
    },
    {
      "cell_type": "code",
      "metadata": {
        "id": "3GiXU0xInONx",
        "colab_type": "code",
        "colab": {
          "base_uri": "https://localhost:8080/",
          "height": 1000
        },
        "outputId": "572483f0-ed15-4a8a-fcf6-7f6ff8f47205"
      },
      "source": [
        "#df.head()\n",
        "#df['Atribuído a'].fillna(df['Criado por'], inplace=True)\n",
        "df['Data de início'].fillna(df['Criado em'], inplace=True)\n",
        "df['Data de conclusão'].fillna(df['Concluído em'], inplace=True)\n",
        "#df[(df['Atribuído a'].isnull())] = df['Criado por']\n",
        "df"
      ],
      "execution_count": 17,
      "outputs": [
        {
          "output_type": "execute_result",
          "data": {
            "text/html": [
              "<div>\n",
              "<style scoped>\n",
              "    .dataframe tbody tr th:only-of-type {\n",
              "        vertical-align: middle;\n",
              "    }\n",
              "\n",
              "    .dataframe tbody tr th {\n",
              "        vertical-align: top;\n",
              "    }\n",
              "\n",
              "    .dataframe thead th {\n",
              "        text-align: right;\n",
              "    }\n",
              "</style>\n",
              "<table border=\"1\" class=\"dataframe\">\n",
              "  <thead>\n",
              "    <tr style=\"text-align: right;\">\n",
              "      <th></th>\n",
              "      <th>Identificação da tarefa</th>\n",
              "      <th>Nome da tarefa</th>\n",
              "      <th>Nome do Bucket</th>\n",
              "      <th>Progresso</th>\n",
              "      <th>Prioridade</th>\n",
              "      <th>Atribuído a</th>\n",
              "      <th>Criado por</th>\n",
              "      <th>Criado em</th>\n",
              "      <th>Data de início</th>\n",
              "      <th>Data de conclusão</th>\n",
              "      <th>Atrasados</th>\n",
              "      <th>Concluído em</th>\n",
              "      <th>Concluída por</th>\n",
              "      <th>Descrição</th>\n",
              "      <th>Itens concluídos da lista de verificação</th>\n",
              "      <th>Itens da lista de verificação</th>\n",
              "      <th>Rótulos</th>\n",
              "    </tr>\n",
              "  </thead>\n",
              "  <tbody>\n",
              "    <tr>\n",
              "      <th>0</th>\n",
              "      <td>QR5jHiKSLUOBmjXTR9qYH2QAFtAU</td>\n",
              "      <td>50488 - Integração - alterar ID de peça</td>\n",
              "      <td>ePol - Sustentação</td>\n",
              "      <td>Concluída</td>\n",
              "      <td>Urgente</td>\n",
              "      <td>NaN</td>\n",
              "      <td>Denis Silva Giroto</td>\n",
              "      <td>15/05/2020</td>\n",
              "      <td>15/05/2020</td>\n",
              "      <td>19/05/2020</td>\n",
              "      <td>False</td>\n",
              "      <td>19/05/2020</td>\n",
              "      <td>Denis Silva Giroto</td>\n",
              "      <td>https://projetos.dpf.gov.br/redmine/public/iss...</td>\n",
              "      <td>1/1</td>\n",
              "      <td>update com ad</td>\n",
              "      <td>NaN</td>\n",
              "    </tr>\n",
              "    <tr>\n",
              "      <th>1</th>\n",
              "      <td>QqQrjgyDCEWvM1rR0aeLrWQAK4-r</td>\n",
              "      <td>50360 - Versão HOM 1.102.0 - Intimação</td>\n",
              "      <td>ePol - Homologação de projeto</td>\n",
              "      <td>Em andamento</td>\n",
              "      <td>Média</td>\n",
              "      <td>Rafael De Morais</td>\n",
              "      <td>Rafael De Morais</td>\n",
              "      <td>15/05/2020</td>\n",
              "      <td>19/05/2020</td>\n",
              "      <td>NaN</td>\n",
              "      <td>False</td>\n",
              "      <td>NaN</td>\n",
              "      <td>NaN</td>\n",
              "      <td>https://projetos.dpf.gov.br/redmine/public/iss...</td>\n",
              "      <td>NaN</td>\n",
              "      <td>NaN</td>\n",
              "      <td>NaN</td>\n",
              "    </tr>\n",
              "    <tr>\n",
              "      <th>2</th>\n",
              "      <td>xRnXlQYBIkidx-FszfdG2WQAEtiC</td>\n",
              "      <td>DUMP de produção</td>\n",
              "      <td>Tarefas pendentes</td>\n",
              "      <td>Não iniciada</td>\n",
              "      <td>Média</td>\n",
              "      <td>Sidney Andre Da Silva Assencao</td>\n",
              "      <td>Denis Silva Giroto</td>\n",
              "      <td>14/05/2020</td>\n",
              "      <td>14/05/2020</td>\n",
              "      <td>NaN</td>\n",
              "      <td>False</td>\n",
              "      <td>NaN</td>\n",
              "      <td>NaN</td>\n",
              "      <td>https://projetos.dpf.gov.br/redmine/public/iss...</td>\n",
              "      <td>NaN</td>\n",
              "      <td>NaN</td>\n",
              "      <td>NaN</td>\n",
              "    </tr>\n",
              "    <tr>\n",
              "      <th>3</th>\n",
              "      <td>7MjHfB80k0qpoFFflZTU3GQAO4cW</td>\n",
              "      <td>49987 - Integração - Adaptar caminho do serviç...</td>\n",
              "      <td>ePol - Atendimento Especial</td>\n",
              "      <td>Concluída</td>\n",
              "      <td>Urgente</td>\n",
              "      <td>Sidney Andre Da Silva Assencao;Denis Silva Giroto</td>\n",
              "      <td>Denis Silva Giroto</td>\n",
              "      <td>27/04/2020</td>\n",
              "      <td>28/04/2020</td>\n",
              "      <td>28/04/2020</td>\n",
              "      <td>False</td>\n",
              "      <td>19/05/2020</td>\n",
              "      <td>Denis Silva Giroto</td>\n",
              "      <td>https://projetos.dpf.gov.br/redmine/public/iss...</td>\n",
              "      <td>4/4</td>\n",
              "      <td>Aguardando o Rafael abrir o Redmine;Arrumar pr...</td>\n",
              "      <td>Vermelho</td>\n",
              "    </tr>\n",
              "    <tr>\n",
              "      <th>4</th>\n",
              "      <td>FiQdpFXfX0GD4joMbWKXgmQAGMNA</td>\n",
              "      <td>48481 - Integração - sobrescrever assinatura p...</td>\n",
              "      <td>ePol - Projeto</td>\n",
              "      <td>Concluída</td>\n",
              "      <td>Média</td>\n",
              "      <td>Sidney Andre Da Silva Assencao;Denis Silva Giroto</td>\n",
              "      <td>Denis Silva Giroto</td>\n",
              "      <td>29/04/2020</td>\n",
              "      <td>29/04/2020</td>\n",
              "      <td>08/05/2020</td>\n",
              "      <td>False</td>\n",
              "      <td>19/05/2020</td>\n",
              "      <td>Denis Silva Giroto</td>\n",
              "      <td>https://projetos.dpf.gov.br/redmine/public/iss...</td>\n",
              "      <td>4/4</td>\n",
              "      <td>Aguardando autorização para merger ;merger fei...</td>\n",
              "      <td>Vermelho</td>\n",
              "    </tr>\n",
              "    <tr>\n",
              "      <th>...</th>\n",
              "      <td>...</td>\n",
              "      <td>...</td>\n",
              "      <td>...</td>\n",
              "      <td>...</td>\n",
              "      <td>...</td>\n",
              "      <td>...</td>\n",
              "      <td>...</td>\n",
              "      <td>...</td>\n",
              "      <td>...</td>\n",
              "      <td>...</td>\n",
              "      <td>...</td>\n",
              "      <td>...</td>\n",
              "      <td>...</td>\n",
              "      <td>...</td>\n",
              "      <td>...</td>\n",
              "      <td>...</td>\n",
              "      <td>...</td>\n",
              "    </tr>\n",
              "    <tr>\n",
              "      <th>106</th>\n",
              "      <td>BBOHZE56HUyPsd_n14K-z2QAJoPf</td>\n",
              "      <td>50592 - Download - Se houver alguma peça sigil...</td>\n",
              "      <td>ePol - Sustentação</td>\n",
              "      <td>Em andamento</td>\n",
              "      <td>Média</td>\n",
              "      <td>Denis Silva Giroto</td>\n",
              "      <td>Denis Silva Giroto</td>\n",
              "      <td>19/05/2020</td>\n",
              "      <td>19/05/2020</td>\n",
              "      <td>22/05/2020</td>\n",
              "      <td>False</td>\n",
              "      <td>NaN</td>\n",
              "      <td>NaN</td>\n",
              "      <td>https://projetos.dpf.gov.br/redmine/public/iss...</td>\n",
              "      <td>NaN</td>\n",
              "      <td>NaN</td>\n",
              "      <td>NaN</td>\n",
              "    </tr>\n",
              "    <tr>\n",
              "      <th>107</th>\n",
              "      <td>I3FSmEtKiU2f3xu1k2sgv2QAFK6n</td>\n",
              "      <td>50676 - Versão HOM 1.102.13 - Apensos - Ao cri...</td>\n",
              "      <td>ePol - Projeto</td>\n",
              "      <td>Concluída</td>\n",
              "      <td>Média</td>\n",
              "      <td>Denis Silva Giroto</td>\n",
              "      <td>Denis Silva Giroto</td>\n",
              "      <td>19/05/2020</td>\n",
              "      <td>19/05/2020</td>\n",
              "      <td>19/05/2020</td>\n",
              "      <td>False</td>\n",
              "      <td>19/05/2020</td>\n",
              "      <td>Denis Silva Giroto</td>\n",
              "      <td>https://projetos.dpf.gov.br/redmine/public/iss...</td>\n",
              "      <td>NaN</td>\n",
              "      <td>NaN</td>\n",
              "      <td>NaN</td>\n",
              "    </tr>\n",
              "    <tr>\n",
              "      <th>108</th>\n",
              "      <td>dCqLEL0geUqd0V1hT6myuWQAKMne</td>\n",
              "      <td>50593 - Versão HOM 1.102.13 - Redistribuição d...</td>\n",
              "      <td>ePol - Projeto</td>\n",
              "      <td>Concluída</td>\n",
              "      <td>Média</td>\n",
              "      <td>Denis Silva Giroto</td>\n",
              "      <td>Denis Silva Giroto</td>\n",
              "      <td>19/05/2020</td>\n",
              "      <td>19/05/2020</td>\n",
              "      <td>19/05/2020</td>\n",
              "      <td>False</td>\n",
              "      <td>19/05/2020</td>\n",
              "      <td>Denis Silva Giroto</td>\n",
              "      <td>https://projetos.dpf.gov.br/redmine/public/iss...</td>\n",
              "      <td>NaN</td>\n",
              "      <td>NaN</td>\n",
              "      <td>NaN</td>\n",
              "    </tr>\n",
              "    <tr>\n",
              "      <th>109</th>\n",
              "      <td>bLDVt1eAm0WHeVB8QYhgB2QADBAe</td>\n",
              "      <td>49186 - Movimentar procedimento - \"Erro ao atu...</td>\n",
              "      <td>ePol - Sustentação</td>\n",
              "      <td>Concluída</td>\n",
              "      <td>Média</td>\n",
              "      <td>Denis Silva Giroto</td>\n",
              "      <td>Denis Silva Giroto</td>\n",
              "      <td>19/05/2020</td>\n",
              "      <td>19/05/2020</td>\n",
              "      <td>19/05/2020</td>\n",
              "      <td>False</td>\n",
              "      <td>19/05/2020</td>\n",
              "      <td>Denis Silva Giroto</td>\n",
              "      <td>NaN</td>\n",
              "      <td>NaN</td>\n",
              "      <td>NaN</td>\n",
              "      <td>Vermelho</td>\n",
              "    </tr>\n",
              "    <tr>\n",
              "      <th>110</th>\n",
              "      <td>baqS8caXYUKrpI-D_jhYkWQAMC0O</td>\n",
              "      <td>49114 - Download - Após o retombamento siscart...</td>\n",
              "      <td>validação ou feedback</td>\n",
              "      <td>Não iniciada</td>\n",
              "      <td>Média</td>\n",
              "      <td>Denis Silva Giroto</td>\n",
              "      <td>Denis Silva Giroto</td>\n",
              "      <td>19/05/2020</td>\n",
              "      <td>19/05/2020</td>\n",
              "      <td>NaN</td>\n",
              "      <td>False</td>\n",
              "      <td>NaN</td>\n",
              "      <td>NaN</td>\n",
              "      <td>https://projetos.dpf.gov.br/redmine/public/iss...</td>\n",
              "      <td>NaN</td>\n",
              "      <td>NaN</td>\n",
              "      <td>NaN</td>\n",
              "    </tr>\n",
              "  </tbody>\n",
              "</table>\n",
              "<p>111 rows × 17 columns</p>\n",
              "</div>"
            ],
            "text/plain": [
              "          Identificação da tarefa  ...   Rótulos\n",
              "0    QR5jHiKSLUOBmjXTR9qYH2QAFtAU  ...       NaN\n",
              "1    QqQrjgyDCEWvM1rR0aeLrWQAK4-r  ...       NaN\n",
              "2    xRnXlQYBIkidx-FszfdG2WQAEtiC  ...       NaN\n",
              "3    7MjHfB80k0qpoFFflZTU3GQAO4cW  ...  Vermelho\n",
              "4    FiQdpFXfX0GD4joMbWKXgmQAGMNA  ...  Vermelho\n",
              "..                            ...  ...       ...\n",
              "106  BBOHZE56HUyPsd_n14K-z2QAJoPf  ...       NaN\n",
              "107  I3FSmEtKiU2f3xu1k2sgv2QAFK6n  ...       NaN\n",
              "108  dCqLEL0geUqd0V1hT6myuWQAKMne  ...       NaN\n",
              "109  bLDVt1eAm0WHeVB8QYhgB2QADBAe  ...  Vermelho\n",
              "110  baqS8caXYUKrpI-D_jhYkWQAMC0O  ...       NaN\n",
              "\n",
              "[111 rows x 17 columns]"
            ]
          },
          "metadata": {
            "tags": []
          },
          "execution_count": 17
        }
      ]
    },
    {
      "cell_type": "code",
      "metadata": {
        "id": "xo28yRIeaiKa",
        "colab_type": "code",
        "colab": {
          "base_uri": "https://localhost:8080/",
          "height": 85
        },
        "outputId": "d9741801-18c3-44cf-eeda-beb907f56555"
      },
      "source": [
        "df['Atribuído a'].unique()"
      ],
      "execution_count": 7,
      "outputs": [
        {
          "output_type": "execute_result",
          "data": {
            "text/plain": [
              "array([nan, 'Rafael De Morais', 'Sidney Andre Da Silva Assencao',\n",
              "       'Sidney Andre Da Silva Assencao;Denis Silva Giroto',\n",
              "       'Denis Silva Giroto', 'Denis Silva Giroto;Rafael De Morais'],\n",
              "      dtype=object)"
            ]
          },
          "metadata": {
            "tags": []
          },
          "execution_count": 7
        }
      ]
    },
    {
      "cell_type": "code",
      "metadata": {
        "id": "nx10y4a7aj7w",
        "colab_type": "code",
        "colab": {}
      },
      "source": [
        "nome = 'Denis Silva Giroto'\n"
      ],
      "execution_count": 0,
      "outputs": []
    },
    {
      "cell_type": "code",
      "metadata": {
        "id": "mhb5cbfkn7XI",
        "colab_type": "code",
        "colab": {
          "base_uri": "https://localhost:8080/",
          "height": 221
        },
        "outputId": "d7bd508a-1d01-448a-b2f3-6df6e0476949"
      },
      "source": [
        "filtro = (df['Atribuído a']).str.contains(nome, regex=False)\n",
        "filtro\n",
        "#df_especifico = df[filtro] \n",
        "#df_especifico = df[df['Atribuído a']==nome]\n",
        "#df_especifico "
      ],
      "execution_count": 21,
      "outputs": [
        {
          "output_type": "execute_result",
          "data": {
            "text/plain": [
              "0        NaN\n",
              "1      False\n",
              "2      False\n",
              "3       True\n",
              "4       True\n",
              "       ...  \n",
              "106     True\n",
              "107     True\n",
              "108     True\n",
              "109     True\n",
              "110     True\n",
              "Name: Atribuído a, Length: 111, dtype: object"
            ]
          },
          "metadata": {
            "tags": []
          },
          "execution_count": 21
        }
      ]
    },
    {
      "cell_type": "code",
      "metadata": {
        "id": "wGe1DQ7zKXdL",
        "colab_type": "code",
        "colab": {}
      },
      "source": [
        ""
      ],
      "execution_count": 0,
      "outputs": []
    }
  ]
}