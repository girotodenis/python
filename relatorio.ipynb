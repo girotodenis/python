{
  "nbformat": 4,
  "nbformat_minor": 0,
  "metadata": {
    "colab": {
      "name": "relatorio.ipynb",
      "provenance": [],
      "authorship_tag": "ABX9TyOqtN1n8PIDb8lsy1/VFx03",
      "include_colab_link": true
    },
    "kernelspec": {
      "name": "python3",
      "display_name": "Python 3"
    }
  },
  "cells": [
    {
      "cell_type": "markdown",
      "metadata": {
        "id": "view-in-github",
        "colab_type": "text"
      },
      "source": [
        "<a href=\"https://colab.research.google.com/github/girotodenis/python/blob/master/relatorio.ipynb\" target=\"_parent\"><img src=\"https://colab.research.google.com/assets/colab-badge.svg\" alt=\"Open In Colab\"/></a>"
      ]
    },
    {
      "cell_type": "code",
      "metadata": {
        "id": "pTzLMV7iX01g",
        "colab_type": "code",
        "colab": {}
      },
      "source": [
        "data_i = datetime(2020, 1, 11)\n",
        "data_f = datetime(2020, 5, 17)\n",
        "\n",
        "\n",
        "import numpy as np\n",
        "import pandas as pd\n",
        "from datetime import datetime\n",
        "from scipy import stats as st\n",
        "import matplotlib.pyplot as plt\n",
        "import seaborn as sns\n",
        "%matplotlib inline"
      ],
      "execution_count": 0,
      "outputs": []
    },
    {
      "cell_type": "code",
      "metadata": {
        "id": "h9c_VTCHbSeo",
        "colab_type": "code",
        "colab": {}
      },
      "source": [
        "\n",
        "#!git clone -l -s git://github.com/girotodenis/data_science.git cloned-repo\n",
        "#%cd cloned-repo\n",
        "#!ls\n",
        "df = pd.read_excel('/content/ePol.xlsx')\n",
        "#print(df.columns)\n",
        "#print(df['Progresso'].unique())\n",
        "df = df[(df['Progresso']!='Não iniciada')]\n",
        "\n",
        "df['Data de início'].fillna(df['Criado em'], inplace=True)\n",
        "df['Data de conclusão'].fillna(df['Concluído em'], inplace=True)\n",
        "df['Data de início'] = pd.to_datetime(df['Data de início'])\n",
        "df['Data de conclusão'] = pd.to_datetime(df['Data de conclusão'])\n",
        "df['Criado em'] = pd.to_datetime(df['Criado em'])\n",
        "df['Concluído em'] = pd.to_datetime(df['Concluído em'])\n",
        "\n",
        "df['Atribuído a'].fillna(df['Criado por'], inplace=True)\n",
        "#df['Concluído em'].fillna(df['Criado por'], inplace=True)\n",
        "\n",
        "df = df[['Nome da tarefa','Nome do Bucket','Progresso','Atribuído a', 'Criado por', 'Criado em',\n",
        "       'Data de início', 'Data de conclusão']]\n",
        "\n",
        "data_minima = df['Data de início'].min()\n",
        "data_maxima = df['Data de conclusão'].max()\n"
      ],
      "execution_count": 0,
      "outputs": []
    },
    {
      "cell_type": "code",
      "metadata": {
        "id": "5lAe0881aAJV",
        "colab_type": "code",
        "colab": {}
      },
      "source": [
        "sequencia_dias = pd.DataFrame(data={'Dia':[]})\n",
        "sequencia_dias['Dia'] = pd.date_range(start=data_minima,end=data_maxima, name=\"dia\")\n",
        "df_completo = pd.DataFrame(columns=df.columns)\n",
        "df_completo['Dia'] = None\n",
        "\n",
        "for data_corrente in sequencia_dias['Dia'].values: \n",
        "  x = df[ ((df['Data de início']<=data_corrente) & (df['Progresso']!='Concluída')) | ((df['Data de início']<=data_corrente) & (df['Data de conclusão']>=data_corrente) ) ]\n",
        "  x['Dia'] = data_corrente\n",
        "  x['count'] = 1\n",
        "  df_completo = df_completo.append(x, ignore_index=True) \n",
        "\n",
        "#print(df.columns)\n",
        "#print(df['Atribuído a'].unique())\n",
        "\n",
        "nome = 'Denis Silva Giroto'\n"
      ],
      "execution_count": 0,
      "outputs": []
    },
    {
      "cell_type": "code",
      "metadata": {
        "id": "wGe1DQ7zKXdL",
        "colab_type": "code",
        "colab": {}
      },
      "source": [
        "qtd_demanda = df_completo[['Dia', 'Atribuído a', 'count']]\n",
        "qtd_demanda = qtd_demanda.groupby(['Dia', 'Atribuído a']).count()\n",
        "qtd_demanda = qtd_demanda.reset_index()\n",
        "qtd_demanda['Dia'] = pd.to_datetime(qtd_demanda['Dia'])\n"
      ],
      "execution_count": 0,
      "outputs": []
    },
    {
      "cell_type": "code",
      "metadata": {
        "id": "Y64SJicTetNl",
        "colab_type": "code",
        "colab": {}
      },
      "source": [
        "df_x = qtd_demanda[ ((qtd_demanda['Dia']>=data_i) & (qtd_demanda['Dia']<=data_f) ) ]\n",
        "df_x['Dia'] = df_x['Dia'].astype(str)\n",
        "\n",
        "#xs = df_x.pivot(index='Dia', columns='Atribuído a', values='count')\n",
        "#xs.plot(figsize = (15,4))"
      ],
      "execution_count": 0,
      "outputs": []
    },
    {
      "cell_type": "code",
      "metadata": {
        "id": "rcDrdTO4mrjw",
        "colab_type": "code",
        "colab": {}
      },
      "source": [
        "fig, ax = plt.subplots(figsize = (20,8))\n",
        "\n",
        "values = ['g','b','r','y']\n",
        "i=0\n",
        "for nome in df_x['Atribuído a'].unique():\n",
        "  color = values[i]\n",
        "  filtro = df_x[(df_x['Atribuído a']==nome)]\n",
        "  x = filtro['Dia'] #Setar a variável do eixo X\n",
        "  y = filtro['count'] #Setar a variável do eixo Y\n",
        "  ax.plot(x, y, 'k--', label = nome, color=color,  marker = 'o') # Criar a linha\n",
        "  i+=1\n",
        "\n",
        "plt.xticks(rotation = 90) #Fazer a Rotação do eixo x\n",
        "plt.grid() #Aplicar a linha grade\n",
        "plt.tight_layout() #Ajustar o layout\n",
        "plt.legend(loc = 1) #Plotar Legenda\n",
        "plt.title('Gráfico de Controle', size = 30, weight = 'bold',\n",
        "          color = '#006400', style = 'italic') \n",
        "plt.xlabel('Dias', size = 10)\n",
        "plt.ylabel('Qt de tarefas', size = 10)\n",
        "plt.show()"
      ],
      "execution_count": 0,
      "outputs": []
    }
  ]
}