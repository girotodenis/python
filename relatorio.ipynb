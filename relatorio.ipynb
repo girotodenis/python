{
  "nbformat": 4,
  "nbformat_minor": 0,
  "metadata": {
    "colab": {
      "name": "relatorio.ipynb",
      "provenance": [],
      "authorship_tag": "ABX9TyPpVe+ROCVkiB8UcR9+hZ2Y",
      "include_colab_link": true
    },
    "kernelspec": {
      "name": "python3",
      "display_name": "Python 3"
    }
  },
  "cells": [
    {
      "cell_type": "markdown",
      "metadata": {
        "id": "view-in-github",
        "colab_type": "text"
      },
      "source": [
        "<a href=\"https://colab.research.google.com/github/girotodenis/python/blob/master/relatorio.ipynb\" target=\"_parent\"><img src=\"https://colab.research.google.com/assets/colab-badge.svg\" alt=\"Open In Colab\"/></a>"
      ]
    },
    {
      "cell_type": "code",
      "metadata": {
        "id": "pTzLMV7iX01g",
        "colab_type": "code",
        "colab": {}
      },
      "source": [
        "%%capture\n",
        "\n",
        "import numpy as np\n",
        "import pandas as pd\n",
        "from datetime import datetime\n",
        "from scipy import stats as st\n",
        "import matplotlib.pyplot as plt\n",
        "import seaborn as sns\n",
        "%matplotlib inline\n"
      ],
      "execution_count": 0,
      "outputs": []
    },
    {
      "cell_type": "code",
      "metadata": {
        "id": "JnNoZRsVZ6UL",
        "colab_type": "code",
        "colab": {}
      },
      "source": [
        "data_i = datetime(2020, 5, 1)\n",
        "data_f = datetime(2020, 5, 22)\n",
        "#nome_atribuido = 'Denis Silva Giroto'\n",
        "nome_atribuido = 'todos'"
      ],
      "execution_count": 0,
      "outputs": []
    },
    {
      "cell_type": "code",
      "metadata": {
        "id": "h9c_VTCHbSeo",
        "colab_type": "code",
        "colab": {}
      },
      "source": [
        "%%capture\n",
        "\n",
        "df = pd.read_excel('/content/ePol.xlsx')\n",
        "df = df[(df['Progresso']!='Não iniciada')]\n",
        "df['Data de início'].fillna(df['Criado em'], inplace=True)\n",
        "df['Data de conclusão'].fillna(df['Concluído em'], inplace=True)\n",
        "df['Data de início'] = pd.to_datetime(df['Data de início'], format='%d/%m/%Y')\n",
        "df['Data de conclusão'] = pd.to_datetime(df['Data de conclusão'], format='%d/%m/%Y')\n",
        "df['Criado em'] = pd.to_datetime(df['Criado em'], format='%d/%m/%Y')\n",
        "df['Concluído em'] = pd.to_datetime(df['Concluído em'], format='%d/%m/%Y')\n",
        "df['Atribuído a'].fillna(df['Criado por'], inplace=True)\n",
        "df = df[['Nome da tarefa','Nome do Bucket','Progresso','Atribuído a', 'Criado por', 'Criado em', 'Data de início', 'Data de conclusão']]\n",
        "data_minima = df['Data de início'].min()\n",
        "data_maxima = df['Data de conclusão'].max()"
      ],
      "execution_count": 0,
      "outputs": []
    },
    {
      "cell_type": "code",
      "metadata": {
        "id": "5lAe0881aAJV",
        "colab_type": "code",
        "colab": {}
      },
      "source": [
        "%%capture\n",
        "\n",
        "sequencia_dias = pd.DataFrame(data={'Dia':[]})\n",
        "sequencia_dias['Dia'] = pd.date_range(start=data_minima,end=data_maxima, name=\"dia\")\n",
        "df_completo = pd.DataFrame(columns=df.columns)\n",
        "df_completo['Dia'] = None\n",
        "for data_corrente in sequencia_dias['Dia'].values: \n",
        "  x = df[ ((df['Data de início']<=data_corrente) & (df['Progresso']!='Concluída')) | ((df['Data de início']<=data_corrente) & (df['Data de conclusão']>=data_corrente) ) ] \n",
        "  x['Dia'] = data_corrente\n",
        "  x['count'] = 1\n",
        "  x['Progresso dia'] = x['Progresso']\n",
        "  df_completo = df_completo.append(x, ignore_index=True) \n",
        "df_completo['Progresso dia'].unique()\n",
        "df_completo.loc[((df_completo['Progresso']=='Concluída')&( df_completo['Data de conclusão'] > df_completo['Dia'] )), 'Progresso dia'] = 'Em andamento' \n",
        "\n"
      ],
      "execution_count": 0,
      "outputs": []
    },
    {
      "cell_type": "code",
      "metadata": {
        "id": "wGe1DQ7zKXdL",
        "colab_type": "code",
        "colab": {}
      },
      "source": [
        "%%capture\n",
        "\n",
        "qtd_demanda = df_completo[['Dia', 'Atribuído a', 'count']]\n",
        "qtd_demanda.sort_values(by=['Atribuído a'], inplace=True)\n",
        "qtd_demanda = qtd_demanda.groupby(['Dia', 'Atribuído a']).count()\n",
        "qtd_demanda = qtd_demanda.reset_index()\n",
        "qtd_demanda['Dia'] = pd.to_datetime(qtd_demanda['Dia'], format='%d/%m/%Y')"
      ],
      "execution_count": 0,
      "outputs": []
    },
    {
      "cell_type": "code",
      "metadata": {
        "id": "rcDrdTO4mrjw",
        "colab_type": "code",
        "colab": {}
      },
      "source": [
        "##%%capture\n",
        "\n",
        "df_x = qtd_demanda[ ((qtd_demanda['Dia']>=data_i) & (qtd_demanda['Dia']<=data_f) ) ]\n",
        "df_x['Dia'] = df_x['Dia'].astype(str)\n",
        "\n",
        "\n",
        "fig, ax = plt.subplots(figsize = (25,7))\n",
        "values = ['g','b','r','y']\n",
        "i=0\n",
        "for nome in df_x['Atribuído a'].unique():\n",
        "  if nome_atribuido == 'todos' or nome_atribuido == nome:\n",
        "    color = values[i]\n",
        "    filtro = df_x[(df_x['Atribuído a']==nome)]\n",
        "    x = filtro['Dia']\n",
        "    y = filtro['count']\n",
        "    ax.plot(x, y, 'k--', label = nome, color=color,  marker = 'o') \n",
        "    i+=1\n",
        "\n",
        "x=plt.xticks(rotation = 90) \n",
        "x=plt.tight_layout() \n",
        "x=plt.legend(loc = 1)\n",
        "x=plt.title('Gráfico de Controle', size = 30, weight = 'bold', color = '#006400', style = 'italic') \n",
        "x=plt.xlabel('Dias', size = 10)\n",
        "x=plt.ylabel('Qt de tarefas', size = 10)\n",
        "x=plt.grid() \n",
        "\n",
        "\n"
      ],
      "execution_count": 0,
      "outputs": []
    },
    {
      "cell_type": "code",
      "metadata": {
        "id": "AlDhoCd1lp5Q",
        "colab_type": "code",
        "colab": {}
      },
      "source": [
        "\n",
        "print('------------------------------------')\n",
        "from IPython.core.interactiveshell import InteractiveShell\n",
        "InteractiveShell.ast_node_interactivity = \"all\"\n",
        "df_x.sort_values(by=['Atribuído a'], inplace=True, ascending=True)\n",
        "\n",
        "for nome in df_x['Atribuído a'].unique():\n",
        "  if nome_atribuido == 'todos' or nome_atribuido == nome:\n",
        "    print(df_x[df_x['Atribuído a']==nome])\n",
        "    print('------------------------------------------------')\n",
        "\n",
        "print('------------------------------------')"
      ],
      "execution_count": 0,
      "outputs": []
    },
    {
      "cell_type": "code",
      "metadata": {
        "id": "S4AYU6CpC7Tf",
        "colab_type": "code",
        "colab": {}
      },
      "source": [
        "barra = {'Atribuído a':[], 'Tarefas':[], 'Concluidos':[] }\n",
        "for nome in df_x['Atribuído a'].unique():\n",
        "  if nome_atribuido == 'todos' or nome_atribuido == nome:\n",
        "    print(nome)\n",
        "    tarefas = df_completo[(df_completo['Atribuído a']==nome) & (df_completo['Dia']>=data_i) & (df_completo['Dia']<=data_f)]\n",
        "    tarefas_concluidas = df_completo[(df_completo['Atribuído a']==nome) & (df_completo['Dia']>=data_i) & (df_completo['Dia']<=data_f) & (df_completo['Progresso dia']=='Concluída' )]\n",
        "    tarefas = tarefas['Nome da tarefa'].unique()\n",
        "    tarefas_concluidas = tarefas_concluidas['Nome da tarefa'].unique()\n",
        "    print('quantidade de tarefas no periodo', len(tarefas))\n",
        "    print('tarefas:', tarefas)\n",
        "    print('tarefas concluidas:', tarefas_concluidas)\n",
        "    barra['Atribuído a'].append(nome)\n",
        "    barra['Tarefas'].append(len(tarefas))\n",
        "    barra['Concluidos'].append(len(tarefas_concluidas))\n",
        "    print('------------------------------------------------')\n",
        "\n"
      ],
      "execution_count": 0,
      "outputs": []
    },
    {
      "cell_type": "code",
      "metadata": {
        "id": "2wtKoDg7lukR",
        "colab_type": "code",
        "colab": {}
      },
      "source": [
        "df_barra = pd.DataFrame(barra)\n",
        "pp = df_barra.plot\n",
        "#x = pp.grid()\n",
        "ax = pp.barh(x='Atribuído a', y=['Tarefas','Concluidos'], figsize=(15,7))\n",
        "ax.grid('on', which='minor', axis='x' )\n",
        "ax.grid('on', which='major', axis='x' )\n",
        "ax.set_alpha(0.8)\n",
        "ax.set_xticks(barra['Tarefas'])\n",
        "for i in ax.patches:\n",
        "  ax.text( 0 if i.get_width()-1<0 else i.get_width()-1, i.get_y()+.1, \\\n",
        "            str( i.get_width() ), fontsize=15,color='white')"
      ],
      "execution_count": 0,
      "outputs": []
    },
    {
      "cell_type": "code",
      "metadata": {
        "id": "iHQh1lEcd7EW",
        "colab_type": "code",
        "colab": {}
      },
      "source": [
        ""
      ],
      "execution_count": 0,
      "outputs": []
    }
  ]
}