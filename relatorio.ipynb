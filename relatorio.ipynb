{
  "nbformat": 4,
  "nbformat_minor": 0,
  "metadata": {
    "colab": {
      "name": "relatorio.ipynb",
      "provenance": [],
      "authorship_tag": "ABX9TyPZoXBadiMWi8Enjh4XibY6",
      "include_colab_link": true
    },
    "kernelspec": {
      "name": "python3",
      "display_name": "Python 3"
    }
  },
  "cells": [
    {
      "cell_type": "markdown",
      "metadata": {
        "id": "view-in-github",
        "colab_type": "text"
      },
      "source": [
        "<a href=\"https://colab.research.google.com/github/girotodenis/python/blob/master/relatorio.ipynb\" target=\"_parent\"><img src=\"https://colab.research.google.com/assets/colab-badge.svg\" alt=\"Open In Colab\"/></a>"
      ]
    },
    {
      "cell_type": "code",
      "metadata": {
        "id": "pTzLMV7iX01g",
        "colab_type": "code",
        "outputId": "f3b3c205-3235-4257-b165-c1bfa5925509",
        "colab": {
          "base_uri": "https://localhost:8080/",
          "height": 71
        }
      },
      "source": [
        "import numpy as np\n",
        "import pandas as pd\n",
        "from scipy import stats as st\n",
        "import matplotlib.pyplot as plt\n",
        "import seaborn as sns\n",
        "%matplotlib inline"
      ],
      "execution_count": 0,
      "outputs": [
        {
          "output_type": "stream",
          "text": [
            "/usr/local/lib/python3.6/dist-packages/statsmodels/tools/_testing.py:19: FutureWarning: pandas.util.testing is deprecated. Use the functions in the public API at pandas.testing instead.\n",
            "  import pandas.util.testing as tm\n"
          ],
          "name": "stderr"
        }
      ]
    },
    {
      "cell_type": "code",
      "metadata": {
        "id": "h9c_VTCHbSeo",
        "colab_type": "code",
        "outputId": "609576cb-7c4f-4f26-95f9-7e9aca203be4",
        "colab": {
          "base_uri": "https://localhost:8080/",
          "height": 34
        }
      },
      "source": [
        "\n",
        "#!git clone -l -s git://github.com/girotodenis/data_science.git cloned-repo\n",
        "#%cd cloned-repo\n",
        "#!ls\n",
        "\n",
        "df = pd.read_excel('/content/ePol.xlsx')\n",
        "df.shape"
      ],
      "execution_count": 0,
      "outputs": [
        {
          "output_type": "execute_result",
          "data": {
            "text/plain": [
              "(98, 17)"
            ]
          },
          "metadata": {
            "tags": []
          },
          "execution_count": 25
        }
      ]
    },
    {
      "cell_type": "code",
      "metadata": {
        "id": "5lAe0881aAJV",
        "colab_type": "code",
        "outputId": "10b9d191-4918-4dd2-f07d-7de2561ba8da",
        "colab": {
          "base_uri": "https://localhost:8080/",
          "height": 136
        }
      },
      "source": [
        "df.columns"
      ],
      "execution_count": 0,
      "outputs": [
        {
          "output_type": "execute_result",
          "data": {
            "text/plain": [
              "Index(['Identificação da tarefa', 'Nome da tarefa', 'Nome do Bucket',\n",
              "       'Progresso', 'Prioridade', 'Atribuído a', 'Criado por', 'Criado em',\n",
              "       'Data de início', 'Data de conclusão', 'Atrasados', 'Concluído em',\n",
              "       'Concluída por', 'Descrição',\n",
              "       'Itens concluídos da lista de verificação',\n",
              "       'Itens da lista de verificação', 'Rótulos'],\n",
              "      dtype='object')"
            ]
          },
          "metadata": {
            "tags": []
          },
          "execution_count": 26
        }
      ]
    },
    {
      "cell_type": "code",
      "metadata": {
        "id": "3GiXU0xInONx",
        "colab_type": "code",
        "colab": {}
      },
      "source": [
        "#df.head()"
      ],
      "execution_count": 0,
      "outputs": []
    },
    {
      "cell_type": "code",
      "metadata": {
        "id": "xo28yRIeaiKa",
        "colab_type": "code",
        "colab": {}
      },
      "source": [
        "#df['Atribuído a'].unique()"
      ],
      "execution_count": 0,
      "outputs": []
    },
    {
      "cell_type": "code",
      "metadata": {
        "id": "nx10y4a7aj7w",
        "colab_type": "code",
        "colab": {}
      },
      "source": [
        ""
      ],
      "execution_count": 0,
      "outputs": []
    },
    {
      "cell_type": "code",
      "metadata": {
        "id": "mhb5cbfkn7XI",
        "colab_type": "code",
        "colab": {}
      },
      "source": [
        ""
      ],
      "execution_count": 0,
      "outputs": []
    }
  ]
}