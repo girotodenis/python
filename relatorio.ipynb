{
  "nbformat": 4,
  "nbformat_minor": 0,
  "metadata": {
    "colab": {
      "name": "relatorio.ipynb",
      "provenance": [],
      "authorship_tag": "ABX9TyNEP4tZG4pOugTt5oNHLFby",
      "include_colab_link": true
    },
    "kernelspec": {
      "name": "python3",
      "display_name": "Python 3"
    }
  },
  "cells": [
    {
      "cell_type": "markdown",
      "metadata": {
        "id": "view-in-github",
        "colab_type": "text"
      },
      "source": [
        "<a href=\"https://colab.research.google.com/github/girotodenis/python/blob/master/relatorio.ipynb\" target=\"_parent\"><img src=\"https://colab.research.google.com/assets/colab-badge.svg\" alt=\"Open In Colab\"/></a>"
      ]
    },
    {
      "cell_type": "code",
      "metadata": {
        "id": "pTzLMV7iX01g",
        "colab_type": "code",
        "colab": {}
      },
      "source": [
        "import numpy as np\n",
        "import pandas as pd\n",
        "from datetime import datetime\n",
        "from scipy import stats as st\n",
        "import matplotlib.pyplot as plt\n",
        "import seaborn as sns\n",
        "%matplotlib inline"
      ],
      "execution_count": 0,
      "outputs": []
    },
    {
      "cell_type": "code",
      "metadata": {
        "id": "JnNoZRsVZ6UL",
        "colab_type": "code",
        "colab": {}
      },
      "source": [
        "data_i = datetime(2020, 5, 11)\n",
        "data_f = datetime(2020, 5, 15)\n",
        "#nome_atribuido = 'Denis Silva Giroto'\n",
        "nome_atribuido = 'todos'"
      ],
      "execution_count": 0,
      "outputs": []
    },
    {
      "cell_type": "code",
      "metadata": {
        "id": "h9c_VTCHbSeo",
        "colab_type": "code",
        "colab": {}
      },
      "source": [
        "\n",
        "df = pd.read_excel('/content/ePol.xlsx')\n",
        "df = df[(df['Progresso']!='Não iniciada')]\n",
        "df['Data de início'].fillna(df['Criado em'], inplace=True)\n",
        "df['Data de conclusão'].fillna(df['Concluído em'], inplace=True)\n",
        "df['Data de início'] = pd.to_datetime(df['Data de início'], format='%d/%m/%Y')\n",
        "df['Data de conclusão'] = pd.to_datetime(df['Data de conclusão'], format='%d/%m/%Y')\n",
        "df['Criado em'] = pd.to_datetime(df['Criado em'], format='%d/%m/%Y')\n",
        "df['Concluído em'] = pd.to_datetime(df['Concluído em'], format='%d/%m/%Y')\n",
        "df['Atribuído a'].fillna(df['Criado por'], inplace=True)\n",
        "df = df[['Nome da tarefa','Nome do Bucket','Progresso','Atribuído a', 'Criado por', 'Criado em', 'Data de início', 'Data de conclusão']]\n",
        "data_minima = df['Data de início'].min()\n",
        "data_maxima = df['Data de conclusão'].max()\n"
      ],
      "execution_count": 0,
      "outputs": []
    },
    {
      "cell_type": "code",
      "metadata": {
        "id": "5lAe0881aAJV",
        "colab_type": "code",
        "colab": {}
      },
      "source": [
        "sequencia_dias = pd.DataFrame(data={'Dia':[]})\n",
        "sequencia_dias['Dia'] = pd.date_range(start=data_minima,end=data_maxima, name=\"dia\")\n",
        "df_completo = pd.DataFrame(columns=df.columns)\n",
        "df_completo['Dia'] = None\n",
        "\n",
        "for data_corrente in sequencia_dias['Dia'].values: \n",
        "  x = df[ ((df['Data de início']<=data_corrente) & (df['Progresso']!='Concluída')) | ((df['Data de início']<=data_corrente) & (df['Data de conclusão']>=data_corrente) ) ] \n",
        "  x['Dia'] = data_corrente\n",
        "  x['count'] = 1\n",
        "  x['Progresso dia'] = x['Progresso']\n",
        "  df_completo = df_completo.append(x, ignore_index=True) \n",
        "\n",
        "\n",
        "df_completo['Progresso dia'].unique()\n",
        "\n",
        "df_completo.loc[((df_completo['Progresso']=='Concluída')&( df_completo['Data de conclusão'] > df_completo['Dia'] )), 'Progresso dia'] = 'Em andamento' "
      ],
      "execution_count": 0,
      "outputs": []
    },
    {
      "cell_type": "code",
      "metadata": {
        "id": "wGe1DQ7zKXdL",
        "colab_type": "code",
        "colab": {}
      },
      "source": [
        "qtd_demanda = df_completo[['Dia', 'Atribuído a', 'count']]\n",
        "qtd_demanda = qtd_demanda.groupby(['Dia', 'Atribuído a']).count()\n",
        "qtd_demanda = qtd_demanda.reset_index()\n",
        "qtd_demanda['Dia'] = pd.to_datetime(qtd_demanda['Dia'], format='%d/%m/%Y')\n"
      ],
      "execution_count": 0,
      "outputs": []
    },
    {
      "cell_type": "code",
      "metadata": {
        "id": "rcDrdTO4mrjw",
        "colab_type": "code",
        "colab": {}
      },
      "source": [
        "df_x = qtd_demanda[ ((qtd_demanda['Dia']>=data_i) & (qtd_demanda['Dia']<=data_f) ) ]\n",
        "df_x['Dia'] = df_x['Dia'].astype(str)\n",
        "\n",
        "fig, ax = plt.subplots(figsize = (20,8))\n",
        "values = ['g','b','r','y']\n",
        "i=0\n",
        "for nome in df_x['Atribuído a'].unique():\n",
        "  if nome_atribuido == 'todos' or nome_atribuido == nome:\n",
        "    color = values[i]\n",
        "    filtro = df_x[(df_x['Atribuído a']==nome)]\n",
        "    x = filtro['Dia']\n",
        "    y = filtro['count']\n",
        "    ax.plot(x, y, 'k--', label = nome, color=color,  marker = 'o') \n",
        "    i+=1\n",
        "\n",
        "plt.xticks(rotation = 90) \n",
        "plt.grid() \n",
        "plt.tight_layout() \n",
        "plt.legend(loc = 1)\n",
        "plt.title('Gráfico de Controle', size = 30, weight = 'bold',\n",
        "          color = '#006400', style = 'italic') \n",
        "plt.xlabel('Dias', size = 10)\n",
        "plt.ylabel('Qt de tarefas', size = 10)\n",
        "plt.show()"
      ],
      "execution_count": 0,
      "outputs": []
    },
    {
      "cell_type": "code",
      "metadata": {
        "id": "S4AYU6CpC7Tf",
        "colab_type": "code",
        "colab": {}
      },
      "source": [
        "for nome in df_x['Atribuído a'].unique():\n",
        "  if nome_atribuido == 'todos' or nome_atribuido == nome:\n",
        "    print(nome)\n",
        "    tarefas = df_completo[(df_completo['Atribuído a']==nome) & (df_completo['Dia']>=data_i) & (df_completo['Dia']<=data_f)]\n",
        "    print(tarefas['Nome da tarefa'].unique())\n",
        "    print('------------------------------------------------')"
      ],
      "execution_count": 0,
      "outputs": []
    },
    {
      "cell_type": "code",
      "metadata": {
        "id": "Wi93jGD4FIFo",
        "colab_type": "code",
        "colab": {}
      },
      "source": [
        ""
      ],
      "execution_count": 0,
      "outputs": []
    }
  ]
}